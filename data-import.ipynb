{
 "cells": [
  {
   "cell_type": "markdown",
   "id": "cdc5411d-0d43-400b-8ee5-31a66ecaefa1",
   "metadata": {},
   "source": [
    "# Data Import from NCBI GenBank\n"
   ]
  },
  {
   "cell_type": "code",
   "execution_count": 41,
   "id": "df80f709-a3ae-49c3-95db-12af3d3b09a7",
   "metadata": {},
   "outputs": [
    {
     "name": "stdout",
     "output_type": "stream",
     "text": [
      "Reference Covid sequence\n",
      "NC_045512.2\n",
      "Seq('ATTAAAGGTTTATACCTTCCCAGGTAACAAACCAACCAACTTTCGATCTCTTGT...AAA')\n",
      "29903\n",
      "{'id': 'MZ144330.1', 'date': '07-MAY-2021', 'country': 'USA: Massachusetts'}\n",
      "{'id': 'MZ144344.1', 'date': '07-MAY-2021', 'country': 'USA: Massachusetts'}\n",
      "{'id': 'MZ144393.1', 'date': '07-MAY-2021', 'country': 'USA: Massachusetts'}\n"
     ]
    }
   ],
   "source": [
    "from Bio import SeqIO\n",
    "from Bio import Entrez\n",
    "Entrez.email = \"jhwnkim@mit.edu\"  # Always tell NCBI who you are\n",
    "\n",
    "# Read Covid19 reference sequence\n",
    "ref = SeqIO.read(\"./data/ref_sequence.gb\", \"genbank\")\n",
    "print('Reference Covid sequence')\n",
    "print(ref.id)\n",
    "print(repr(ref.seq))\n",
    "print(len(ref.seq))\n",
    "\n",
    "\n",
    "# Read downloaded sequence file from NCBI GenBank Virus site\n",
    "records = list( SeqIO.parse(\"./data/MA-sequences.fasta\", \"fasta\") )\n",
    "\n",
    "def get_meta(record_id='NC_045512.2'): # default is the reference\n",
    "    handle = Entrez.efetch(db=\"nuccore\", id=record_id, rettype=\"gb\", retmode=\"xml\")\n",
    "    fetch_record = Entrez.read(handle)    \n",
    "    handle.close()\n",
    "    \n",
    "    metadata = {\n",
    "        'id': record_id,\n",
    "        'date': fetch_record[0]['GBSeq_create-date'],\n",
    "    }\n",
    "    \n",
    "    for qualifier in fetch_record[0]['GBSeq_feature-table'][0]['GBFeature_quals']:\n",
    "        if qualifier['GBQualifier_name'] == 'country':\n",
    "            metadata['country'] = qualifier['GBQualifier_value']\n",
    "\n",
    "    print(metadata)\n",
    "    return metadata\n",
    "    \n",
    "for record in records:\n",
    "    get_meta(record.id)\n"
   ]
  },
  {
   "cell_type": "code",
   "execution_count": 35,
   "id": "3f38c953",
   "metadata": {},
   "outputs": [
    {
     "name": "stdout",
     "output_type": "stream",
     "text": [
      "13-JAN-2020\n",
      "\n",
      "China\n"
     ]
    }
   ],
   "source": [
    "# examine record\n",
    "\n",
    "import json\n",
    "\n",
    "# fetch_record[0].keys()\n",
    "print(fetch_record[0]['GBSeq_create-date'])\n",
    "# print(json.dumps(fetch_record[0]['GBSeq_feature-table'][0]['GBFeature_quals'], indent=1))\n",
    "# print(json.dumps(fetch_record[0]['GBSeq_feature-table'][0], indent=1))\n",
    "\n",
    "print()\n",
    "\n",
    "\n",
    "for qualifier in fetch_record[0]['GBSeq_feature-table'][0]['GBFeature_quals']:\n",
    "    if qualifier['GBQualifier_name'] == 'country':\n",
    "        print(qualifier['GBQualifier_value'] )\n",
    "# print(json.dumps(fetch_record[0], indent=1))"
   ]
  },
  {
   "cell_type": "code",
   "execution_count": null,
   "id": "5cfbc990",
   "metadata": {},
   "outputs": [],
   "source": []
  },
  {
   "cell_type": "code",
   "execution_count": null,
   "id": "ae9ea2c2-726d-472f-a241-ba15b5d906e1",
   "metadata": {},
   "outputs": [],
   "source": []
  }
 ],
 "metadata": {
  "kernelspec": {
   "display_name": "Python 3",
   "language": "python",
   "name": "python3"
  },
  "language_info": {
   "codemirror_mode": {
    "name": "ipython",
    "version": 3
   },
   "file_extension": ".py",
   "mimetype": "text/x-python",
   "name": "python",
   "nbconvert_exporter": "python",
   "pygments_lexer": "ipython3",
   "version": "3.9.4"
  }
 },
 "nbformat": 4,
 "nbformat_minor": 5
}
